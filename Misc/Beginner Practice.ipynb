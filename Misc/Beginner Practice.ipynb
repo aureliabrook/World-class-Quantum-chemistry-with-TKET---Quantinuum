{
 "cells": [
  {
   "cell_type": "markdown",
   "id": "d9985cf4",
   "metadata": {},
   "source": [
    "# Practice - Building Circuits with `pytket`\n",
    "\n",
    "Following along the circuit building tutorial, and then playing with some of the functions given by `pytket`"
   ]
  },
  {
   "cell_type": "code",
   "execution_count": 13,
   "id": "7cf5fbd9",
   "metadata": {},
   "outputs": [
    {
     "data": {
      "text/plain": [
       "[NoSymbolsPredicate,\n",
       " GateSetPredicate:{ SX Y ZZPhase RangePredicate X YYPhase Z XXPhase S Sdg T Tdg SXdg CnX Barrier CCX H Rx Unitary1qBox Ry Unitary2qBox Rz U3 U2 U1 TK1 CX CY CZ CU1 CU3 SWAP CSWAP noop Measure Reset PhasedX }]"
      ]
     },
     "execution_count": 13,
     "metadata": {},
     "output_type": "execute_result"
    }
   ],
   "source": [
    "#Imports\n",
    "from pytket import Circuit\n",
    "from pytket.circuit.display import render_circuit_jupyter\n",
    "from pytket.extensions.qiskit import AerBackend\n",
    "\n",
    "import pandas as pd\n",
    "import seaborn as sns\n",
    "import matplotlib.pyplot as plt\n",
    "\n",
    "backend = AerBackend()\n",
    "backend.required_predicates"
   ]
  },
  {
   "cell_type": "code",
   "execution_count": 4,
   "id": "0155aba4",
   "metadata": {},
   "outputs": [
    {
     "data": {
      "text/plain": [
       "[H q[0]; ]"
      ]
     },
     "execution_count": 4,
     "metadata": {},
     "output_type": "execute_result"
    }
   ],
   "source": [
    "#Simple sample circuit with 1 qubit and 1 classical bit\n",
    "circ = Circuit(1,1) \n",
    "circ.H(0)"
   ]
  },
  {
   "cell_type": "code",
   "execution_count": 5,
   "id": "81e89fdd",
   "metadata": {},
   "outputs": [
    {
     "data": {
      "text/html": [
       "\n",
       "\n",
       "\n",
       "\n",
       "\n",
       "\n",
       "<iframe srcdoc=\"\n",
       "&lt;!DOCTYPE html&gt;\n",
       "&lt;html lang=&#34;en&#34;&gt;\n",
       "&lt;head&gt;\n",
       "    &lt;meta charset=&#34;UTF-8&#34;&gt;\n",
       "\n",
       "    &lt;script type=&#34;application/javascript&#34; src=&#34;https://cdn.jsdelivr.net/npm/vue@3&#34;&gt;&lt;/script&gt;\n",
       "    &lt;script type=&#34;application/javascript&#34; src=&#34;https://unpkg.com/pytket-circuit-renderer@0.2/dist/pytket-circuit-renderer.umd.js&#34;&gt;&lt;/script&gt;\n",
       "    &lt;link rel=&#34;stylesheet&#34; href=&#34;https://unpkg.com/pytket-circuit-renderer@0.2/dist/pytket-circuit-renderer.css&#34;&gt;\n",
       "&lt;/head&gt;\n",
       "&lt;body&gt;\n",
       "    &lt;div id=&#34;circuit-display-vue-container-ec9d317c-0cf3-4133-81e6-29a06e9d8088&#34; class=&#34;pytket-circuit-display-container&#34;&gt;\n",
       "        &lt;div style=&#34;display: none&#34;&gt;\n",
       "            &lt;div id=&#34;circuit-json-to-display&#34;&gt;{&#34;bits&#34;: [[&#34;c&#34;, [0]]], &#34;commands&#34;: [{&#34;args&#34;: [[&#34;q&#34;, [0]]], &#34;op&#34;: {&#34;type&#34;: &#34;H&#34;}}], &#34;implicit_permutation&#34;: [[[&#34;q&#34;, [0]], [&#34;q&#34;, [0]]]], &#34;phase&#34;: &#34;0.0&#34;, &#34;qubits&#34;: [[&#34;q&#34;, [0]]]}&lt;/div&gt;\n",
       "        &lt;/div&gt;\n",
       "        &lt;circuit-display-container :circuit-element-str=&#34;&#39;#circuit-json-to-display&#39;&#34;&gt;&lt;/circuit-display-container&gt;\n",
       "    &lt;/div&gt;\n",
       "\n",
       "    &lt;script type=&#34;application/javascript&#34;&gt;\n",
       "        const { createApp } = Vue;\n",
       "        const circuitDisplayContainer = window[&#34;pytket-circuit-renderer&#34;].default;\n",
       "\n",
       "        // Init variables to be shared between circuit display instances\n",
       "        if (typeof window.pytketCircuitDisplays === &#34;undefined&#34;) {\n",
       "            window.pytketCircuitDisplays = {};\n",
       "        }\n",
       "\n",
       "        const uid = &#34;ec9d317c-0cf3-4133-81e6-29a06e9d8088&#34;;\n",
       "\n",
       "        // Create the root Vue component\n",
       "        window.pytketCircuitDisplays[uid] = createApp({\n",
       "            delimiters: [&#39;[[#&#39;, &#39;#]]&#39;],\n",
       "            components: { circuitDisplayContainer },\n",
       "        }).mount(&#34;#circuit-display-vue-container-&#34;+uid);\n",
       "    &lt;/script&gt;\n",
       "&lt;/body&gt;\n",
       "&lt;/html&gt;\n",
       "\"\n",
       "        width=\"100%\" height=\"200px\"\n",
       "        style=\"border: none; outline: none; resize: vertical; overflow: auto\"></iframe>\n",
       "\n"
      ],
      "text/plain": [
       "<IPython.core.display.HTML object>"
      ]
     },
     "metadata": {},
     "output_type": "display_data"
    }
   ],
   "source": [
    "render_circuit_jupyter(circ) #generates a schematic that can be edited with little side widgets"
   ]
  },
  {
   "cell_type": "code",
   "execution_count": 6,
   "id": "ccc05839",
   "metadata": {},
   "outputs": [
    {
     "data": {
      "text/html": [
       "\n",
       "\n",
       "\n",
       "\n",
       "\n",
       "\n",
       "<iframe srcdoc=\"\n",
       "&lt;!DOCTYPE html&gt;\n",
       "&lt;html lang=&#34;en&#34;&gt;\n",
       "&lt;head&gt;\n",
       "    &lt;meta charset=&#34;UTF-8&#34;&gt;\n",
       "\n",
       "    &lt;script type=&#34;application/javascript&#34; src=&#34;https://cdn.jsdelivr.net/npm/vue@3&#34;&gt;&lt;/script&gt;\n",
       "    &lt;script type=&#34;application/javascript&#34; src=&#34;https://unpkg.com/pytket-circuit-renderer@0.2/dist/pytket-circuit-renderer.umd.js&#34;&gt;&lt;/script&gt;\n",
       "    &lt;link rel=&#34;stylesheet&#34; href=&#34;https://unpkg.com/pytket-circuit-renderer@0.2/dist/pytket-circuit-renderer.css&#34;&gt;\n",
       "&lt;/head&gt;\n",
       "&lt;body&gt;\n",
       "    &lt;div id=&#34;circuit-display-vue-container-9c9718e0-f6b9-47b1-9a86-f08d287e8997&#34; class=&#34;pytket-circuit-display-container&#34;&gt;\n",
       "        &lt;div style=&#34;display: none&#34;&gt;\n",
       "            &lt;div id=&#34;circuit-json-to-display&#34;&gt;{&#34;bits&#34;: [[&#34;c&#34;, [0]]], &#34;commands&#34;: [{&#34;args&#34;: [[&#34;q&#34;, [0]]], &#34;op&#34;: {&#34;type&#34;: &#34;H&#34;}}, {&#34;args&#34;: [[&#34;q&#34;, [0]], [&#34;c&#34;, [0]]], &#34;op&#34;: {&#34;type&#34;: &#34;Measure&#34;}}], &#34;implicit_permutation&#34;: [[[&#34;q&#34;, [0]], [&#34;q&#34;, [0]]]], &#34;phase&#34;: &#34;0.0&#34;, &#34;qubits&#34;: [[&#34;q&#34;, [0]]]}&lt;/div&gt;\n",
       "        &lt;/div&gt;\n",
       "        &lt;circuit-display-container :circuit-element-str=&#34;&#39;#circuit-json-to-display&#39;&#34;&gt;&lt;/circuit-display-container&gt;\n",
       "    &lt;/div&gt;\n",
       "\n",
       "    &lt;script type=&#34;application/javascript&#34;&gt;\n",
       "        const { createApp } = Vue;\n",
       "        const circuitDisplayContainer = window[&#34;pytket-circuit-renderer&#34;].default;\n",
       "\n",
       "        // Init variables to be shared between circuit display instances\n",
       "        if (typeof window.pytketCircuitDisplays === &#34;undefined&#34;) {\n",
       "            window.pytketCircuitDisplays = {};\n",
       "        }\n",
       "\n",
       "        const uid = &#34;9c9718e0-f6b9-47b1-9a86-f08d287e8997&#34;;\n",
       "\n",
       "        // Create the root Vue component\n",
       "        window.pytketCircuitDisplays[uid] = createApp({\n",
       "            delimiters: [&#39;[[#&#39;, &#39;#]]&#39;],\n",
       "            components: { circuitDisplayContainer },\n",
       "        }).mount(&#34;#circuit-display-vue-container-&#34;+uid);\n",
       "    &lt;/script&gt;\n",
       "&lt;/body&gt;\n",
       "&lt;/html&gt;\n",
       "\"\n",
       "        width=\"100%\" height=\"200px\"\n",
       "        style=\"border: none; outline: none; resize: vertical; overflow: auto\"></iframe>\n",
       "\n"
      ],
      "text/plain": [
       "<IPython.core.display.HTML object>"
      ]
     },
     "metadata": {},
     "output_type": "display_data"
    }
   ],
   "source": [
    "circ.measure_all()\n",
    "render_circuit_jupyter(circ)"
   ]
  },
  {
   "cell_type": "code",
   "execution_count": 8,
   "id": "c2e25e48",
   "metadata": {},
   "outputs": [],
   "source": [
    "handle = backend.process_circuit(circ, n_shots = 10, seed = 1)"
   ]
  },
  {
   "cell_type": "code",
   "execution_count": 9,
   "id": "c75765f5",
   "metadata": {},
   "outputs": [
    {
     "name": "stdout",
     "output_type": "stream",
     "text": [
      "[[1]\n",
      " [1]\n",
      " [0]\n",
      " [0]\n",
      " [1]\n",
      " [0]\n",
      " [0]\n",
      " [0]\n",
      " [0]\n",
      " [0]]\n"
     ]
    }
   ],
   "source": [
    "shots = backend.get_result(handle).get_shots()\n",
    "print(shots)"
   ]
  },
  {
   "cell_type": "code",
   "execution_count": 10,
   "id": "0e94f6f4",
   "metadata": {},
   "outputs": [
    {
     "name": "stdout",
     "output_type": "stream",
     "text": [
      "Counter({(0,): 7, (1,): 3})\n"
     ]
    }
   ],
   "source": [
    "counts = backend.get_result(handle).get_counts()\n",
    "print(counts)"
   ]
  },
  {
   "cell_type": "code",
   "execution_count": 15,
   "id": "b3cf2046",
   "metadata": {},
   "outputs": [
    {
     "data": {
      "image/png": "[encoded data removed]",
      "text/plain": [
       "<Figure size 432x144 with 1 Axes>"
      ]
     },
     "metadata": {
      "needs_background": "light"
     },
     "output_type": "display_data"
    }
   ],
   "source": [
    "def plot_counts(counts):\n",
    "    counts_record = [{\"State\":state, \"Count\":count} for state, count in counts.items()]\n",
    "    count_df = pd.DataFrame().from_records(counts_record)\n",
    "    sns.catplot(x=\"State\", y=\"Count\", kind=\"bar\", data=count_df, aspect=3, height=2 )\n",
    "    plt.show()\n",
    "    \n",
    "plot_counts(counts)"
   ]
  },
  {
   "cell_type": "markdown",
   "id": "0ccfcae2",
   "metadata": {},
   "source": [
    "### Testing Slightly More Complex Circuits\n",
    "\n",
    "Still taking from the sample code online, we now try applying an assortment of gates"
   ]
  },
  {
   "cell_type": "code",
   "execution_count": 17,
   "id": "136fd609",
   "metadata": {},
   "outputs": [
    {
     "data": {
      "text/html": [
       "\n",
       "\n",
       "\n",
       "\n",
       "\n",
       "\n",
       "<iframe srcdoc=\"\n",
       "&lt;!DOCTYPE html&gt;\n",
       "&lt;html lang=&#34;en&#34;&gt;\n",
       "&lt;head&gt;\n",
       "    &lt;meta charset=&#34;UTF-8&#34;&gt;\n",
       "\n",
       "    &lt;script type=&#34;application/javascript&#34; src=&#34;https://cdn.jsdelivr.net/npm/vue@3&#34;&gt;&lt;/script&gt;\n",
       "    &lt;script type=&#34;application/javascript&#34; src=&#34;https://unpkg.com/pytket-circuit-renderer@0.2/dist/pytket-circuit-renderer.umd.js&#34;&gt;&lt;/script&gt;\n",
       "    &lt;link rel=&#34;stylesheet&#34; href=&#34;https://unpkg.com/pytket-circuit-renderer@0.2/dist/pytket-circuit-renderer.css&#34;&gt;\n",
       "&lt;/head&gt;\n",
       "&lt;body&gt;\n",
       "    &lt;div id=&#34;circuit-display-vue-container-e15991f5-5ec6-43e2-8305-f36a5438eb71&#34; class=&#34;pytket-circuit-display-container&#34;&gt;\n",
       "        &lt;div style=&#34;display: none&#34;&gt;\n",
       "            &lt;div id=&#34;circuit-json-to-display&#34;&gt;{&#34;bits&#34;: [[&#34;c&#34;, [0]], [&#34;c&#34;, [1]], [&#34;c&#34;, [2]]], &#34;commands&#34;: [{&#34;args&#34;: [[&#34;q&#34;, [0]]], &#34;op&#34;: {&#34;params&#34;: [&#34;0.25&#34;], &#34;type&#34;: &#34;Rz&#34;}}, {&#34;args&#34;: [[&#34;q&#34;, [1]]], &#34;op&#34;: {&#34;params&#34;: [&#34;0.5&#34;], &#34;type&#34;: &#34;Rx&#34;}}, {&#34;args&#34;: [[&#34;q&#34;, [1]], [&#34;c&#34;, [1]]], &#34;op&#34;: {&#34;type&#34;: &#34;Measure&#34;}}, {&#34;args&#34;: [[&#34;q&#34;, [0]], [&#34;q&#34;, [2]]], &#34;op&#34;: {&#34;type&#34;: &#34;CX&#34;}}, {&#34;args&#34;: [[&#34;q&#34;, [0]], [&#34;c&#34;, [0]]], &#34;op&#34;: {&#34;type&#34;: &#34;Measure&#34;}}, {&#34;args&#34;: [[&#34;q&#34;, [2]], [&#34;c&#34;, [2]]], &#34;op&#34;: {&#34;type&#34;: &#34;Measure&#34;}}], &#34;implicit_permutation&#34;: [[[&#34;q&#34;, [0]], [&#34;q&#34;, [0]]], [[&#34;q&#34;, [1]], [&#34;q&#34;, [1]]], [[&#34;q&#34;, [2]], [&#34;q&#34;, [2]]]], &#34;phase&#34;: &#34;0.0&#34;, &#34;qubits&#34;: [[&#34;q&#34;, [0]], [&#34;q&#34;, [1]], [&#34;q&#34;, [2]]]}&lt;/div&gt;\n",
       "        &lt;/div&gt;\n",
       "        &lt;circuit-display-container :circuit-element-str=&#34;&#39;#circuit-json-to-display&#39;&#34;&gt;&lt;/circuit-display-container&gt;\n",
       "    &lt;/div&gt;\n",
       "\n",
       "    &lt;script type=&#34;application/javascript&#34;&gt;\n",
       "        const { createApp } = Vue;\n",
       "        const circuitDisplayContainer = window[&#34;pytket-circuit-renderer&#34;].default;\n",
       "\n",
       "        // Init variables to be shared between circuit display instances\n",
       "        if (typeof window.pytketCircuitDisplays === &#34;undefined&#34;) {\n",
       "            window.pytketCircuitDisplays = {};\n",
       "        }\n",
       "\n",
       "        const uid = &#34;e15991f5-5ec6-43e2-8305-f36a5438eb71&#34;;\n",
       "\n",
       "        // Create the root Vue component\n",
       "        window.pytketCircuitDisplays[uid] = createApp({\n",
       "            delimiters: [&#39;[[#&#39;, &#39;#]]&#39;],\n",
       "            components: { circuitDisplayContainer },\n",
       "        }).mount(&#34;#circuit-display-vue-container-&#34;+uid);\n",
       "    &lt;/script&gt;\n",
       "&lt;/body&gt;\n",
       "&lt;/html&gt;\n",
       "\"\n",
       "        width=\"100%\" height=\"200px\"\n",
       "        style=\"border: none; outline: none; resize: vertical; overflow: auto\"></iframe>\n",
       "\n"
      ],
      "text/plain": [
       "<IPython.core.display.HTML object>"
      ]
     },
     "metadata": {},
     "output_type": "display_data"
    }
   ],
   "source": [
    "n_qubits = 3\n",
    "n_bits = 3\n",
    "circ2 = Circuit(n_qubits, n_bits)\n",
    "circ2.Rx(0.5, 1) #X rotation by pi/2 on qubit 1\n",
    "circ2.Rz(0.25, 0)\n",
    "circ2.CX(0,2) #CNOT gate between qubits 0 and 2\n",
    "circ2.measure_all()\n",
    "render_circuit_jupyter(circ2)"
   ]
  },
  {
   "cell_type": "code",
   "execution_count": 20,
   "id": "abf5099d",
   "metadata": {},
   "outputs": [
    {
     "name": "stdout",
     "output_type": "stream",
     "text": [
      "Counter({(0, 0, 0): 14, (0, 1, 0): 6})\n"
     ]
    },
    {
     "data": {
      "image/png": "[encoded data removed]",
      "text/plain": [
       "<Figure size 432x144 with 1 Axes>"
      ]
     },
     "metadata": {
      "needs_background": "light"
     },
     "output_type": "display_data"
    }
   ],
   "source": [
    "handle2 = backend.process_circuit(circ2, n_shots = 20, seed = 1)\n",
    "shots2 = backend.get_result(handle2).get_shots()\n",
    "counts2 = backend.get_result(handle2).get_counts()\n",
    "print(counts2)\n",
    "plot_counts(counts2)"
   ]
  },
  {
   "cell_type": "markdown",
   "id": "a8cc698e",
   "metadata": {},
   "source": [
    "### Converting Between `qiskit` and `pytket`\n",
    "\n",
    "Using `tk_to_qiskit` and `qiskit_to_tk`"
   ]
  },
  {
   "cell_type": "code",
   "execution_count": 21,
   "id": "b322bc76",
   "metadata": {},
   "outputs": [],
   "source": [
    "#Imports\n",
    "from qiskit import QuantumCircuit\n",
    "from math import pi\n",
    "from pytket.extensions.qiskit import qiskit_to_tk, tk_to_qiskit"
   ]
  },
  {
   "cell_type": "code",
   "execution_count": 25,
   "id": "7efc9e12",
   "metadata": {},
   "outputs": [
    {
     "name": "stdout",
     "output_type": "stream",
     "text": [
      "     ┌───┐                \n",
      "q_0: ┤ H ├──■─────────────\n",
      "     └───┘┌─┴─┐┌─────────┐\n",
      "q_1: ─────┤ X ├┤ Rz(π/2) ├\n",
      "          └───┘└─────────┘\n",
      "q_2: ─────────────────────\n",
      "                          \n"
     ]
    }
   ],
   "source": [
    "qc = QuantumCircuit(3) #Quantum circuit with 3 qubits\n",
    "qc.h(0) #Hadamard on qubit 0\n",
    "qc.cx(0,1) #Controlled NOT gate between qubits 0 and 1\n",
    "qc.rz(pi/2, 1) #Rz gate rotation by pi/2 on qubit 1\n",
    "\n",
    "print(qc)"
   ]
  },
  {
   "cell_type": "code",
   "execution_count": 26,
   "id": "70bfae4a",
   "metadata": {},
   "outputs": [
    {
     "data": {
      "text/html": [
       "\n",
       "\n",
       "\n",
       "\n",
       "\n",
       "\n",
       "<iframe srcdoc=\"\n",
       "&lt;!DOCTYPE html&gt;\n",
       "&lt;html lang=&#34;en&#34;&gt;\n",
       "&lt;head&gt;\n",
       "    &lt;meta charset=&#34;UTF-8&#34;&gt;\n",
       "\n",
       "    &lt;script type=&#34;application/javascript&#34; src=&#34;https://cdn.jsdelivr.net/npm/vue@3&#34;&gt;&lt;/script&gt;\n",
       "    &lt;script type=&#34;application/javascript&#34; src=&#34;https://unpkg.com/pytket-circuit-renderer@0.2/dist/pytket-circuit-renderer.umd.js&#34;&gt;&lt;/script&gt;\n",
       "    &lt;link rel=&#34;stylesheet&#34; href=&#34;https://unpkg.com/pytket-circuit-renderer@0.2/dist/pytket-circuit-renderer.css&#34;&gt;\n",
       "&lt;/head&gt;\n",
       "&lt;body&gt;\n",
       "    &lt;div id=&#34;circuit-display-vue-container-33b2b3d2-5243-4d04-af0a-af85ca59949b&#34; class=&#34;pytket-circuit-display-container&#34;&gt;\n",
       "        &lt;div style=&#34;display: none&#34;&gt;\n",
       "            &lt;div id=&#34;circuit-json-to-display&#34;&gt;{&#34;bits&#34;: [], &#34;commands&#34;: [{&#34;args&#34;: [[&#34;q&#34;, [0]]], &#34;op&#34;: {&#34;type&#34;: &#34;H&#34;}}, {&#34;args&#34;: [[&#34;q&#34;, [0]], [&#34;q&#34;, [1]]], &#34;op&#34;: {&#34;type&#34;: &#34;CX&#34;}}, {&#34;args&#34;: [[&#34;q&#34;, [1]]], &#34;op&#34;: {&#34;params&#34;: [&#34;1.5707963267949/pi&#34;], &#34;type&#34;: &#34;Rz&#34;}}, {&#34;args&#34;: [[&#34;q&#34;, [1]], [&#34;q&#34;, [2]]], &#34;op&#34;: {&#34;type&#34;: &#34;CX&#34;}}], &#34;implicit_permutation&#34;: [[[&#34;q&#34;, [0]], [&#34;q&#34;, [0]]], [[&#34;q&#34;, [1]], [&#34;q&#34;, [1]]], [[&#34;q&#34;, [2]], [&#34;q&#34;, [2]]]], &#34;name&#34;: &#34;circuit-87&#34;, &#34;phase&#34;: &#34;0.0&#34;, &#34;qubits&#34;: [[&#34;q&#34;, [0]], [&#34;q&#34;, [1]], [&#34;q&#34;, [2]]]}&lt;/div&gt;\n",
       "        &lt;/div&gt;\n",
       "        &lt;circuit-display-container :circuit-element-str=&#34;&#39;#circuit-json-to-display&#39;&#34;&gt;&lt;/circuit-display-container&gt;\n",
       "    &lt;/div&gt;\n",
       "\n",
       "    &lt;script type=&#34;application/javascript&#34;&gt;\n",
       "        const { createApp } = Vue;\n",
       "        const circuitDisplayContainer = window[&#34;pytket-circuit-renderer&#34;].default;\n",
       "\n",
       "        // Init variables to be shared between circuit display instances\n",
       "        if (typeof window.pytketCircuitDisplays === &#34;undefined&#34;) {\n",
       "            window.pytketCircuitDisplays = {};\n",
       "        }\n",
       "\n",
       "        const uid = &#34;33b2b3d2-5243-4d04-af0a-af85ca59949b&#34;;\n",
       "\n",
       "        // Create the root Vue component\n",
       "        window.pytketCircuitDisplays[uid] = createApp({\n",
       "            delimiters: [&#39;[[#&#39;, &#39;#]]&#39;],\n",
       "            components: { circuitDisplayContainer },\n",
       "        }).mount(&#34;#circuit-display-vue-container-&#34;+uid);\n",
       "    &lt;/script&gt;\n",
       "&lt;/body&gt;\n",
       "&lt;/html&gt;\n",
       "\"\n",
       "        width=\"100%\" height=\"200px\"\n",
       "        style=\"border: none; outline: none; resize: vertical; overflow: auto\"></iframe>\n",
       "\n"
      ],
      "text/plain": [
       "<IPython.core.display.HTML object>"
      ]
     },
     "metadata": {},
     "output_type": "display_data"
    }
   ],
   "source": [
    "circ = qiskit_to_tk(qc)\n",
    "circ.CX(1,2)\n",
    "render_circuit_jupyter(circ)"
   ]
  },
  {
   "cell_type": "code",
   "execution_count": 27,
   "id": "e080865f",
   "metadata": {},
   "outputs": [
    {
     "name": "stdout",
     "output_type": "stream",
     "text": [
      "     ┌───┐                     \n",
      "q_0: ┤ H ├──■──────────────────\n",
      "     └───┘┌─┴─┐┌─────────┐     \n",
      "q_1: ─────┤ X ├┤ Rz(π/2) ├──■──\n",
      "          └───┘└─────────┘┌─┴─┐\n",
      "q_2: ─────────────────────┤ X ├\n",
      "                          └───┘\n"
     ]
    }
   ],
   "source": [
    "qc2 = tk_to_qiskit(circ)\n",
    "print(qc2)"
   ]
  },
  {
   "cell_type": "code",
   "execution_count": 28,
   "id": "275363f7",
   "metadata": {},
   "outputs": [
    {
     "data": {
      "text/html": [
       "<pre style=\"word-wrap: normal;white-space: pre;background: #fff0;line-height: 1.1;font-family: &quot;Courier New&quot;,Courier,monospace\">     ┌───┐                     \n",
       "q_0: ┤ H ├──■──────────────────\n",
       "     └───┘┌─┴─┐┌─────────┐     \n",
       "q_1: ─────┤ X ├┤ Rz(π/2) ├──■──\n",
       "          └───┘└─────────┘┌─┴─┐\n",
       "q_2: ─────────────────────┤ X ├\n",
       "                          └───┘</pre>"
      ],
      "text/plain": [
       "     ┌───┐                     \n",
       "q_0: ┤ H ├──■──────────────────\n",
       "     └───┘┌─┴─┐┌─────────┐     \n",
       "q_1: ─────┤ X ├┤ Rz(π/2) ├──■──\n",
       "          └───┘└─────────┘┌─┴─┐\n",
       "q_2: ─────────────────────┤ X ├\n",
       "                          └───┘"
      ]
     },
     "execution_count": 28,
     "metadata": {},
     "output_type": "execute_result"
    }
   ],
   "source": [
    "qc2.draw()"
   ]
  },
  {
   "cell_type": "markdown",
   "id": "e4ea61d8",
   "metadata": {},
   "source": [
    "For this project, we will be using IBM's assortment of quantum chips. In the interest of time, we will not be using Cirq. "
   ]
  },
  {
   "cell_type": "markdown",
   "id": "52d4b116",
   "metadata": {},
   "source": [
    "### Importing QASM files\n",
    "\n",
    "Using sample circuits saved as QASM files as provided [here](https://github.com/spendierk/ethz-hackathon22/tree/main/benchmarking/circuits)."
   ]
  },
  {
   "cell_type": "code",
   "execution_count": 29,
   "id": "44d6fef7",
   "metadata": {},
   "outputs": [],
   "source": [
    "#Imports\n",
    "from pytket import Circuit, Qubit\n",
    "from pytket.qasm import circuit_to_qasm, circuit_from_qasm"
   ]
  },
  {
   "cell_type": "code",
   "execution_count": 31,
   "id": "4e045231",
   "metadata": {},
   "outputs": [
    {
     "data": {
      "text/html": [
       "<pre style=\"word-wrap: normal;white-space: pre;background: #fff0;line-height: 1.1;font-family: &quot;Courier New&quot;,Courier,monospace\">     ┌───────────┐  ┌────────────┐┌────────────┐┌─────────┐┌─────────┐»\n",
       "q_0: ┤ Rz(6.263) ├──┤ Rx(2.5934) ├┤ Rz(2.9639) ├┤ Rz(π/2) ├┤ Rz(π/2) ├»\n",
       "     ├───────────┴┐┌┴────────────┤├────────────┤└─────────┘└─────────┘»\n",
       "q_1: ┤ Rz(2.1936) ├┤ Rx(0.48946) ├┤ Rz(2.5596) ├──────────────────────»\n",
       "     └────────────┘└─────────────┘└────────────┘                      »\n",
       "c: 2/═════════════════════════════════════════════════════════════════»\n",
       "                                                                      »\n",
       "«     ┌─────────┐┌─────────┐   ┌─────────┐  ┌─────────┐  ┌─────────┐»\n",
       "«q_0: ┤ Rx(π/2) ├┤ Rz(π/2) ├─■─┤ Rz(π/2) ├──┤ Rx(π/2) ├──┤ Rz(π/2) ├»\n",
       "«     └─────────┘└─────────┘ │ ├─────────┴┐┌┴─────────┴─┐├─────────┤»\n",
       "«q_1: ───────────────────────■─┤ Rz(3π/2) ├┤ Rx(5.4177) ├┤ Rz(π/2) ├»\n",
       "«                              └──────────┘└────────────┘└─────────┘»\n",
       "«c: 2/══════════════════════════════════════════════════════════════»\n",
       "«                                                                   »\n",
       "«     ┌─────────────┐                         ┌─────────┐┌─────────┐┌─────────┐»\n",
       "«q_0: ┤ Rz(0.22002) ├───────────────────────■─┤ Rz(π/2) ├┤ Rx(π/2) ├┤ Rz(π/2) ├»\n",
       "«     └─┬─────────┬─┘┌─────────┐┌─────────┐ │ ├─────────┤├─────────┤├─────────┤»\n",
       "«q_1: ──┤ Rz(π/2) ├──┤ Rx(π/2) ├┤ Rz(π/2) ├─■─┤ Rz(π/2) ├┤ Rx(π/2) ├┤ Rz(π/2) ├»\n",
       "«       └─────────┘  └─────────┘└─────────┘   └─────────┘└─────────┘└─────────┘»\n",
       "«c: 2/═════════════════════════════════════════════════════════════════════════»\n",
       "«                                                                              »\n",
       "«                                             ┌─────────┐  ┌─────────┐  »\n",
       "«q_0: ──────────────────────────────────────■─┤ Rz(π/2) ├──┤ Rx(π/2) ├──»\n",
       "«     ┌──────────┐┌────────────┐┌─────────┐ │ ├─────────┴┐┌┴─────────┴─┐»\n",
       "«q_1: ┤ Rz(3π/2) ├┤ Rx(1.5622) ├┤ Rz(π/2) ├─■─┤ Rz(3π/2) ├┤ Rz(3.1643) ├»\n",
       "«     └──────────┘└────────────┘└─────────┘   └──────────┘└────────────┘»\n",
       "«c: 2/══════════════════════════════════════════════════════════════════»\n",
       "«                                                                       »\n",
       "«      ┌─────────┐  ┌────────────┐ ┌────────────┐┌────────────┐┌────────────┐»\n",
       "«q_0: ─┤ Rz(π/2) ├──┤ Rz(4.1536) ├─┤ Rx(1.1211) ├┤ Rz(2.2397) ├┤ Rz(1.6988) ├»\n",
       "«     ┌┴─────────┴─┐├────────────┤┌┴────────────┤├────────────┤├────────────┤»\n",
       "«q_1: ┤ Rx(2.9469) ├┤ Rz(4.0259) ├┤ Rz(0.87401) ├┤ Rx(1.9507) ├┤ Rz(2.5005) ├»\n",
       "«     └────────────┘└────────────┘└─────────────┘└────────────┘└────────────┘»\n",
       "«c: 2/═══════════════════════════════════════════════════════════════════════»\n",
       "«                                                                            »\n",
       "«     ┌────────────┐┌────────────┐┌─────────┐┌─────────┐┌─────────┐┌─────────┐»\n",
       "«q_0: ┤ Rx(1.2824) ├┤ Rz(3.8503) ├┤ Rz(π/2) ├┤ Rz(π/2) ├┤ Rx(π/2) ├┤ Rz(π/2) ├»\n",
       "«     └────────────┘└────────────┘└─────────┘└─────────┘└─────────┘└─────────┘»\n",
       "«q_1: ────────────────────────────────────────────────────────────────────────»\n",
       "«                                                                             »\n",
       "«c: 2/════════════════════════════════════════════════════════════════════════»\n",
       "«                                                                             »\n",
       "«        ┌─────────┐  ┌─────────┐  ┌─────────┐┌─────────────┐           »\n",
       "«q_0: ─■─┤ Rz(π/2) ├──┤ Rx(π/2) ├──┤ Rz(π/2) ├┤ Rz(0.12851) ├───────────»\n",
       "«      │ ├─────────┴┐┌┴─────────┴─┐├─────────┤└─┬─────────┬─┘┌─────────┐»\n",
       "«q_1: ─■─┤ Rz(3π/2) ├┤ Rx(5.6561) ├┤ Rz(π/2) ├──┤ Rz(π/2) ├──┤ Rx(π/2) ├»\n",
       "«        └──────────┘└────────────┘└─────────┘  └─────────┘  └─────────┘»\n",
       "«c: 2/══════════════════════════════════════════════════════════════════»\n",
       "«                                                                       »\n",
       "«                   ┌─────────┐┌─────────┐┌─────────┐                          »\n",
       "«q_0: ────────────■─┤ Rz(π/2) ├┤ Rx(π/2) ├┤ Rz(π/2) ├──────────────────────────»\n",
       "«     ┌─────────┐ │ ├─────────┤├─────────┤├─────────┤┌──────────┐┌────────────┐»\n",
       "«q_1: ┤ Rz(π/2) ├─■─┤ Rz(π/2) ├┤ Rx(π/2) ├┤ Rz(π/2) ├┤ Rz(3π/2) ├┤ Rx(1.0613) ├»\n",
       "«     └─────────┘   └─────────┘└─────────┘└─────────┘└──────────┘└────────────┘»\n",
       "«c: 2/═════════════════════════════════════════════════════════════════════════»\n",
       "«                                                                              »\n",
       "«                   ┌─────────┐  ┌─────────┐   ┌─────────┐  ┌────────────┐»\n",
       "«q_0: ────────────■─┤ Rz(π/2) ├──┤ Rx(π/2) ├───┤ Rz(π/2) ├──┤ Rz(3.3473) ├»\n",
       "«     ┌─────────┐ │ ├─────────┴┐┌┴─────────┴─┐┌┴─────────┴─┐├────────────┤»\n",
       "«q_1: ┤ Rz(π/2) ├─■─┤ Rz(3π/2) ├┤ Rz(5.4061) ├┤ Rx(1.4306) ├┤ Rz(3.0463) ├»\n",
       "«     └─────────┘   └──────────┘└────────────┘└────────────┘└────────────┘»\n",
       "«c: 2/════════════════════════════════════════════════════════════════════»\n",
       "«                                                                         »\n",
       "«     ┌────────────┐┌────────────┐\n",
       "«q_0: ┤ Rx(1.7392) ├┤ Rz(1.7114) ├\n",
       "«     └────────────┘└────────────┘\n",
       "«q_1: ────────────────────────────\n",
       "«                                 \n",
       "«c: 2/════════════════════════════\n",
       "«                                 </pre>"
      ],
      "text/plain": [
       "     ┌───────────┐  ┌────────────┐┌────────────┐┌─────────┐┌─────────┐»\n",
       "q_0: ┤ Rz(6.263) ├──┤ Rx(2.5934) ├┤ Rz(2.9639) ├┤ Rz(π/2) ├┤ Rz(π/2) ├»\n",
       "     ├───────────┴┐┌┴────────────┤├────────────┤└─────────┘└─────────┘»\n",
       "q_1: ┤ Rz(2.1936) ├┤ Rx(0.48946) ├┤ Rz(2.5596) ├──────────────────────»\n",
       "     └────────────┘└─────────────┘└────────────┘                      »\n",
       "c: 2/═════════════════════════════════════════════════════════════════»\n",
       "                                                                      »\n",
       "«     ┌─────────┐┌─────────┐   ┌─────────┐  ┌─────────┐  ┌─────────┐»\n",
       "«q_0: ┤ Rx(π/2) ├┤ Rz(π/2) ├─■─┤ Rz(π/2) ├──┤ Rx(π/2) ├──┤ Rz(π/2) ├»\n",
       "«     └─────────┘└─────────┘ │ ├─────────┴┐┌┴─────────┴─┐├─────────┤»\n",
       "«q_1: ───────────────────────■─┤ Rz(3π/2) ├┤ Rx(5.4177) ├┤ Rz(π/2) ├»\n",
       "«                              └──────────┘└────────────┘└─────────┘»\n",
       "«c: 2/══════════════════════════════════════════════════════════════»\n",
       "«                                                                   »\n",
       "«     ┌─────────────┐                         ┌─────────┐┌─────────┐┌─────────┐»\n",
       "«q_0: ┤ Rz(0.22002) ├───────────────────────■─┤ Rz(π/2) ├┤ Rx(π/2) ├┤ Rz(π/2) ├»\n",
       "«     └─┬─────────┬─┘┌─────────┐┌─────────┐ │ ├─────────┤├─────────┤├─────────┤»\n",
       "«q_1: ──┤ Rz(π/2) ├──┤ Rx(π/2) ├┤ Rz(π/2) ├─■─┤ Rz(π/2) ├┤ Rx(π/2) ├┤ Rz(π/2) ├»\n",
       "«       └─────────┘  └─────────┘└─────────┘   └─────────┘└─────────┘└─────────┘»\n",
       "«c: 2/═════════════════════════════════════════════════════════════════════════»\n",
       "«                                                                              »\n",
       "«                                             ┌─────────┐  ┌─────────┐  »\n",
       "«q_0: ──────────────────────────────────────■─┤ Rz(π/2) ├──┤ Rx(π/2) ├──»\n",
       "«     ┌──────────┐┌────────────┐┌─────────┐ │ ├─────────┴┐┌┴─────────┴─┐»\n",
       "«q_1: ┤ Rz(3π/2) ├┤ Rx(1.5622) ├┤ Rz(π/2) ├─■─┤ Rz(3π/2) ├┤ Rz(3.1643) ├»\n",
       "«     └──────────┘└────────────┘└─────────┘   └──────────┘└────────────┘»\n",
       "«c: 2/══════════════════════════════════════════════════════════════════»\n",
       "«                                                                       »\n",
       "«      ┌─────────┐  ┌────────────┐ ┌────────────┐┌────────────┐┌────────────┐»\n",
       "«q_0: ─┤ Rz(π/2) ├──┤ Rz(4.1536) ├─┤ Rx(1.1211) ├┤ Rz(2.2397) ├┤ Rz(1.6988) ├»\n",
       "«     ┌┴─────────┴─┐├────────────┤┌┴────────────┤├────────────┤├────────────┤»\n",
       "«q_1: ┤ Rx(2.9469) ├┤ Rz(4.0259) ├┤ Rz(0.87401) ├┤ Rx(1.9507) ├┤ Rz(2.5005) ├»\n",
       "«     └────────────┘└────────────┘└─────────────┘└────────────┘└────────────┘»\n",
       "«c: 2/═══════════════════════════════════════════════════════════════════════»\n",
       "«                                                                            »\n",
       "«     ┌────────────┐┌────────────┐┌─────────┐┌─────────┐┌─────────┐┌─────────┐»\n",
       "«q_0: ┤ Rx(1.2824) ├┤ Rz(3.8503) ├┤ Rz(π/2) ├┤ Rz(π/2) ├┤ Rx(π/2) ├┤ Rz(π/2) ├»\n",
       "«     └────────────┘└────────────┘└─────────┘└─────────┘└─────────┘└─────────┘»\n",
       "«q_1: ────────────────────────────────────────────────────────────────────────»\n",
       "«                                                                             »\n",
       "«c: 2/════════════════════════════════════════════════════════════════════════»\n",
       "«                                                                             »\n",
       "«        ┌─────────┐  ┌─────────┐  ┌─────────┐┌─────────────┐           »\n",
       "«q_0: ─■─┤ Rz(π/2) ├──┤ Rx(π/2) ├──┤ Rz(π/2) ├┤ Rz(0.12851) ├───────────»\n",
       "«      │ ├─────────┴┐┌┴─────────┴─┐├─────────┤└─┬─────────┬─┘┌─────────┐»\n",
       "«q_1: ─■─┤ Rz(3π/2) ├┤ Rx(5.6561) ├┤ Rz(π/2) ├──┤ Rz(π/2) ├──┤ Rx(π/2) ├»\n",
       "«        └──────────┘└────────────┘└─────────┘  └─────────┘  └─────────┘»\n",
       "«c: 2/══════════════════════════════════════════════════════════════════»\n",
       "«                                                                       »\n",
       "«                   ┌─────────┐┌─────────┐┌─────────┐                          »\n",
       "«q_0: ────────────■─┤ Rz(π/2) ├┤ Rx(π/2) ├┤ Rz(π/2) ├──────────────────────────»\n",
       "«     ┌─────────┐ │ ├─────────┤├─────────┤├─────────┤┌──────────┐┌────────────┐»\n",
       "«q_1: ┤ Rz(π/2) ├─■─┤ Rz(π/2) ├┤ Rx(π/2) ├┤ Rz(π/2) ├┤ Rz(3π/2) ├┤ Rx(1.0613) ├»\n",
       "«     └─────────┘   └─────────┘└─────────┘└─────────┘└──────────┘└────────────┘»\n",
       "«c: 2/═════════════════════════════════════════════════════════════════════════»\n",
       "«                                                                              »\n",
       "«                   ┌─────────┐  ┌─────────┐   ┌─────────┐  ┌────────────┐»\n",
       "«q_0: ────────────■─┤ Rz(π/2) ├──┤ Rx(π/2) ├───┤ Rz(π/2) ├──┤ Rz(3.3473) ├»\n",
       "«     ┌─────────┐ │ ├─────────┴┐┌┴─────────┴─┐┌┴─────────┴─┐├────────────┤»\n",
       "«q_1: ┤ Rz(π/2) ├─■─┤ Rz(3π/2) ├┤ Rz(5.4061) ├┤ Rx(1.4306) ├┤ Rz(3.0463) ├»\n",
       "«     └─────────┘   └──────────┘└────────────┘└────────────┘└────────────┘»\n",
       "«c: 2/════════════════════════════════════════════════════════════════════»\n",
       "«                                                                         »\n",
       "«     ┌────────────┐┌────────────┐\n",
       "«q_0: ┤ Rx(1.7392) ├┤ Rz(1.7114) ├\n",
       "«     └────────────┘└────────────┘\n",
       "«q_1: ────────────────────────────\n",
       "«                                 \n",
       "«c: 2/════════════════════════════\n",
       "«                                 "
      ]
     },
     "execution_count": 31,
     "metadata": {},
     "output_type": "execute_result"
    }
   ],
   "source": [
    "qasmfile = \"8d1eb48e-d667-11ea-9cd7-38f9d36dfbf2.qasm\"\n",
    "qc4 = circuit_from_qasm(qasmfile)\n",
    "qc4_qiskit = tk_to_qiskit(qc4)\n",
    "qc4_qiskit.draw()"
   ]
  },
  {
   "cell_type": "code",
   "execution_count": null,
   "id": "84a7299d",
   "metadata": {},
   "outputs": [],
   "source": []
  }
 ],
 "metadata": {
  "kernelspec": {
   "display_name": "Python 3 (ipykernel)",
   "language": "python",
   "name": "python3"
  },
  "language_info": {
   "codemirror_mode": {
    "name": "ipython",
    "version": 3
   },
   "file_extension": ".py",
   "mimetype": "text/x-python",
   "name": "python",
   "nbconvert_exporter": "python",
   "pygments_lexer": "ipython3",
   "version": "3.9.12"
  }
 },
 "nbformat": 4,
 "nbformat_minor": 5
}
