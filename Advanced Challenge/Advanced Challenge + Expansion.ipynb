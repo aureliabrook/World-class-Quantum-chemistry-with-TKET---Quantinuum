{
 "cells": [
  {
   "cell_type": "markdown",
   "id": "28823fc9",
   "metadata": {},
   "source": [
    "# Advanced Challenge + Challenge Expansion\n",
    "\n",
    "We create our own 6-qubit LiH ansatz with the Bravyi-Kitaev mapper, and run it on real hardware along with simulators to compare performances of our VQE algorithm in finding the ground state energy. "
   ]
  },
  {
   "cell_type": "code",
   "execution_count": 1,
   "id": "56341edd",
   "metadata": {},
   "outputs": [
    {
     "name": "stderr",
     "output_type": "stream",
     "text": [
      "configrc.store_credentials:WARNING:2022-08-23 17:10:45,147: Credentials already present. Set overwrite=True to overwrite.\n",
      "ibmqfactory.load_account:WARNING:2022-08-23 17:10:48,371: Credentials are already in use. The existing account in the session will be replaced.\n"
     ]
    },
    {
     "data": {
      "text/plain": [
       "[NoSymbolsPredicate,\n",
       " GateSetPredicate:{ SX Y ZZPhase RangePredicate X YYPhase Z XXPhase S Sdg T Tdg SXdg CnX Barrier CCX H Rx Unitary1qBox Ry Unitary2qBox Rz U3 U2 U1 TK1 CX CY CZ CU1 CU3 SWAP CSWAP noop Measure Reset PhasedX }]"
      ]
     },
     "execution_count": 1,
     "metadata": {},
     "output_type": "execute_result"
    }
   ],
   "source": [
    "#Pytket imports\n",
    "from pytket import Circuit, Qubit\n",
    "from pytket.circuit.display import render_circuit_jupyter\n",
    "from pytket.extensions.qiskit import AerBackend\n",
    "from pytket.extensions.qiskit import qiskit_to_tk, tk_to_qiskit\n",
    "from pytket.qasm import circuit_to_qasm, circuit_from_qasm\n",
    "from pytket.circuit import OpType\n",
    "\n",
    "#Optimization imports\n",
    "from pytket.passes import *\n",
    "from pytket.predicates import CompilationUnit\n",
    "from pytket.transform import CXConfigType\n",
    "\n",
    "#For running on IBM Quantum Chips\n",
    "from qiskit import QuantumCircuit, transpile, Aer, IBMQ, execute\n",
    "from qiskit.tools.jupyter import *\n",
    "from qiskit.visualization import *\n",
    "from ibm_quantum_widgets import *\n",
    "from qiskit.providers.aer import QasmSimulator\n",
    "import qiskit.providers.aer.noise as noise\n",
    "\n",
    "#Driver and mapper imports\n",
    "from qiskit_nature.drivers import UnitsType, Molecule\n",
    "from qiskit_nature.drivers.second_quantization import (ElectronicStructureDriverType, \n",
    "                                                       ElectronicStructureMoleculeDriver,\n",
    "                                                       PySCFDriver)\n",
    "from qiskit_nature.mappers.second_quantization import BravyiKitaevMapper, JordanWignerMapper\n",
    "from qiskit_nature.problems.second_quantization import ElectronicStructureProblem\n",
    "from qiskit_nature.converters.second_quantization import QubitConverter\n",
    "from qiskit_nature.transformers.second_quantization.electronic import FreezeCoreTransformer\n",
    "\n",
    "#Solver imports\n",
    "from qiskit.algorithms import NumPyMinimumEigensolver\n",
    "from qiskit.algorithms import VQE\n",
    "from qiskit_nature.algorithms import VQEUCCFactory, GroundStateEigensolver\n",
    "from qiskit.utils import QuantumInstance\n",
    "from qiskit.circuit.library import TwoLocal\n",
    "import pyscf\n",
    "\n",
    "\n",
    "#Load IBM account to ensure access to chips\n",
    "IBMQ.save_account('') # Save TOKEN to disk\n",
    "IBMQ.load_account() # Load account from disk\n",
    "IBMQ.providers()    # List all available providers\n",
    "provider = IBMQ.load_account()\n",
    "\n",
    "#For graphing and basic math\n",
    "import pandas as pd\n",
    "import seaborn as sns\n",
    "import matplotlib.pyplot as plt\n",
    "from math import pi\n",
    "import numpy as np\n",
    "\n",
    "#Sanity check\n",
    "backend = AerBackend()\n",
    "backend.required_predicates"
   ]
  },
  {
   "cell_type": "code",
   "execution_count": 2,
   "id": "d276cba7",
   "metadata": {},
   "outputs": [],
   "source": [
    "#Establish some variables and shortcuts for classes to create the molecule and set up a VQE solver\n",
    "molecule = Molecule(geometry=[['Li', [0.0, 0.0, 0.0]], ['H', [0.0, 0.0, 1.5474]]])\n",
    "\n",
    "driver = ElectronicStructureMoleculeDriver(molecule, driver_type = ElectronicStructureDriverType.PYSCF)"
   ]
  },
  {
   "cell_type": "code",
   "execution_count": 3,
   "id": "73c536df",
   "metadata": {},
   "outputs": [
    {
     "name": "stdout",
     "output_type": "stream",
     "text": [
      "Fermionic Operator\n",
      "register length=6, number terms=342\n",
      "  -0.7806641144801505 * ( +_0 -_0 )\n",
      "+ 0.04770212338477363 * ( +_0 -_1 )\n",
      "+ -0.12958118897497894 * ( +_0 -_2 )\n",
      "+ 0.0477021233847736 * ( +_1 -_0 )\n",
      "+ -0.35909729348090397 * ( +_1 -_1 )\n",
      "+ 0.06823802789 ...\n"
     ]
    },
    {
     "name": "stderr",
     "output_type": "stream",
     "text": [
      "/Users/administrator/opt/anaconda3/envs/tket/lib/python3.9/site-packages/qiskit_nature/problems/second_quantization/electronic/electronic_structure_problem.py:93: ListAuxOpsDeprecationWarning: List-based `aux_operators` are deprecated as of version 0.3.0 and support for them will be removed no sooner than 3 months after the release. Instead, use dict-based `aux_operators`. You can switch to the dict-based interface immediately, by setting `qiskit_nature.settings.dict_aux_operators` to `True`.\n",
      "  second_quantized_ops = self._grouped_property_transformed.second_q_ops()\n"
     ]
    }
   ],
   "source": [
    "es_problem = ElectronicStructureProblem(driver, transformers = \n",
    "                                                    [FreezeCoreTransformer(freeze_core = True, \n",
    "                                                                           remove_orbitals = [3,4])])\n",
    "second_q_op = es_problem.second_q_ops()\n",
    "print(second_q_op[0])"
   ]
  },
  {
   "cell_type": "markdown",
   "id": "0b0d63c2",
   "metadata": {},
   "source": [
    "### Ground State Solvers and FermionicOp Mappers\n",
    "\n",
    "Here, we specify the electronic structure of the LiH molecule and use the Bravyi-Kitaev Mapper as detailed [here](https://pubs.acs.org/doi/pdf/10.1021/acs.jctc.8b00450). It has been shown that the Bravyi-Kitaev mapping scheme requires fewer quantum gates for simulation of many molecules, including LiH, when compared to the Jordan-Wigner and the Bravyi-Kitaev Super Fast schemes. However, the Jordan-Wigner method does generally have a [sparser entanglement map](https://journals.aps.org/prxquantum/pdf/10.1103/PRXQuantum.2.020337), so it is expected that the mapping used here will still generate noise when run on a real device."
   ]
  },
  {
   "cell_type": "code",
   "execution_count": 4,
   "id": "b52eb315",
   "metadata": {},
   "outputs": [],
   "source": [
    "qubit_converter = QubitConverter(BravyiKitaevMapper(), two_qubit_reduction = True, z2symmetry_reduction = [1,1])"
   ]
  },
  {
   "cell_type": "code",
   "execution_count": 51,
   "id": "906c48d1",
   "metadata": {},
   "outputs": [
    {
     "name": "stdout",
     "output_type": "stream",
     "text": [
      "Number of qubits: 4\n"
     ]
    }
   ],
   "source": [
    "#Convert to QubitOp\n",
    "qubit_op = qubit_converter.convert(second_q_op[0])\n",
    "print('Number of qubits: ' + str(qubit_op.num_qubits))"
   ]
  },
  {
   "cell_type": "markdown",
   "id": "aab21afb",
   "metadata": {},
   "source": [
    "We will use the Unitary Coupled Cluster (UCC) standard for making our ansatz and then use the ground state eigensolver to calculate ground state energies using Qiskit Aer's simulators. "
   ]
  },
  {
   "cell_type": "code",
   "execution_count": 6,
   "id": "14eb4033",
   "metadata": {},
   "outputs": [],
   "source": [
    "#Define solver\n",
    "numpy_solver = NumPyMinimumEigensolver()\n",
    "quantum_instance = QuantumInstance(backend=Aer.get_backend(\"aer_simulator_statevector\"))\n",
    "vqe_solver = VQEUCCFactory(quantum_instance=quantum_instance)"
   ]
  },
  {
   "cell_type": "code",
   "execution_count": 7,
   "id": "e7476762",
   "metadata": {},
   "outputs": [],
   "source": [
    "#Create circuit\n",
    "tl_circuit = TwoLocal(\n",
    "    rotation_blocks=[\"ry\", \"rz\"],\n",
    "    entanglement_blocks=\"cx\",\n",
    "    entanglement=\"linear\",\n",
    "    reps=1,\n",
    "    parameter_prefix=\"y\",\n",
    "    skip_final_rotation_layer = False\n",
    ")"
   ]
  },
  {
   "cell_type": "code",
   "execution_count": 24,
   "id": "90e1a716",
   "metadata": {},
   "outputs": [
    {
     "name": "stdout",
     "output_type": "stream",
     "text": [
      "=== GROUND STATE ENERGY ===\n",
      " \n",
      "* Electronic ground state energy (Hartree): -8.783386305406\n",
      "  - computed part:      -0.964696009825\n",
      "  - FreezeCoreTransformer extracted energy part: -7.818690295581\n",
      "~ Nuclear repulsion energy (Hartree): 1.025934879643\n",
      "> Total ground state energy (Hartree): -7.757451425763\n",
      " \n",
      "=== MEASURED OBSERVABLES ===\n",
      " \n",
      "  0:  # Particles: 2.000 S: 1.000 S^2: 2.000 M: 1.000\n",
      " \n",
      "=== DIPOLE MOMENTS ===\n",
      " \n",
      "~ Nuclear dipole moment (a.u.): [0.0  0.0  2.92416221]\n",
      " \n",
      "  0: \n",
      "  * Electronic dipole moment (a.u.): [0.0  0.0  1.04926703]\n",
      "    - computed part:      [0.0  0.0  1.05321389]\n",
      "    - FreezeCoreTransformer extracted energy part: [0.0  0.0  -0.00394686]\n",
      "  > Dipole moment (a.u.): [0.0  0.0  1.87489518]  Total: 1.87489518\n",
      "                 (debye): [0.0  0.0  4.76550776]  Total: 4.76550776\n",
      " \n"
     ]
    }
   ],
   "source": [
    "#Calculate ground state energy\n",
    "calc = GroundStateEigensolver(qubit_converter, vqe_solver)\n",
    "res = calc.solve(es_problem)\n",
    "\n",
    "print(res)"
   ]
  },
  {
   "cell_type": "code",
   "execution_count": 9,
   "id": "ce6ce4ae",
   "metadata": {},
   "outputs": [
    {
     "name": "stdout",
     "output_type": "stream",
     "text": [
      "=== GROUND STATE ENERGY ===\n",
      " \n",
      "* Electronic ground state energy (Hartree): -8.789053776487\n",
      "  - computed part:      -0.970363480906\n",
      "  - FreezeCoreTransformer extracted energy part: -7.818690295581\n",
      "~ Nuclear repulsion energy (Hartree): 1.025934879643\n",
      "> Total ground state energy (Hartree): -7.763118896843\n",
      " \n",
      "=== MEASURED OBSERVABLES ===\n",
      " \n",
      "  0:  # Particles: 2.000 S: 1.000 S^2: 2.000 M: -0.985\n",
      " \n",
      "=== DIPOLE MOMENTS ===\n",
      " \n",
      "~ Nuclear dipole moment (a.u.): [0.0  0.0  2.92416221]\n",
      " \n",
      "  0: \n",
      "  * Electronic dipole moment (a.u.): [0.0  0.0  1.33234748]\n",
      "    - computed part:      [0.0  0.0  1.33629434]\n",
      "    - FreezeCoreTransformer extracted energy part: [0.0  0.0  -0.00394686]\n",
      "  > Dipole moment (a.u.): [0.0  0.0  1.59181473]  Total: 1.59181473\n",
      "                 (debye): [0.0  0.0  4.04598909]  Total: 4.04598909\n",
      " \n"
     ]
    }
   ],
   "source": [
    "#Compare to known estimates\n",
    "calc = GroundStateEigensolver(qubit_converter, numpy_solver)\n",
    "res = calc.solve(es_problem)\n",
    "print(res)"
   ]
  },
  {
   "cell_type": "markdown",
   "id": "dc8816a1",
   "metadata": {},
   "source": [
    "### Results with simulators\n",
    "\n",
    "When run on Qiskit Aer's simulator with Qiskit's circuit optimization, the ground state energy calculation is off by 0.064\\%. The values calculated are very similar to results found from [classical calculations](https://indico.in2p3.fr/event/2481/contributions/24469/contribution.pdf), so results were as expected. We will now compare these values to the ones obtained by real devices."
   ]
  },
  {
   "cell_type": "markdown",
   "id": "218fab2f",
   "metadata": {},
   "source": [
    "### Running tests on real devices \n",
    "\n",
    "We first begin with `ibmq_belem`, where we run into some issues since there are many circuits that need to be compiled in order to minimize guesses and return an eigen value for our ansatz. An earlier run that worked in returning a completed job failed to publish a resulting ground state energy, so we will now use a noise model run on a simulator based on `ibmq_belem` to analyze results. "
   ]
  },
  {
   "cell_type": "code",
   "execution_count": 29,
   "id": "a28f8b09",
   "metadata": {},
   "outputs": [],
   "source": [
    "#Set up noise model based on ibmq_belem specs that can be tuned later\n",
    "from qiskit.providers.aer.noise import NoiseModel\n",
    "\n",
    "device = provider.get_backend('ibmq_belem')\n",
    "noise_model = NoiseModel.from_backend(device)\n",
    "\n",
    "basis_gates = device.configuration().basis_gates\n",
    "coupling_map = device.configuration().coupling_map\n",
    "\n",
    "#Noisy solver\n",
    "another_solver = VQE(\n",
    "    ansatz=tl_circuit,\n",
    "    quantum_instance=QuantumInstance(Aer.get_backend(\"aer_simulator_statevector\"), \n",
    "                                     coupling_map=coupling_map, noise_model = noise_model),\n",
    ")\n",
    "\n",
    "#Caluclate ground state energy\n",
    "calc = GroundStateEigensolver(qubit_converter, another_solver)\n",
    "res = calc.solve(es_problem)\n",
    "\n",
    "print(res)"
   ]
  },
  {
   "cell_type": "markdown",
   "id": "2d5656f2",
   "metadata": {},
   "source": [
    "### Optimizing our ansatz\n",
    "\n",
    "Due to long queue times (estimated wait times are currently at a minimum of 9 hours), we will only use `ibmq_belem`, but these calculations can be further used to compare which devices return the closest result. We will instead continue with the transpiled circuit provided by running the ground state eigensolver on `ibmq_belem`."
   ]
  },
  {
   "cell_type": "code",
   "execution_count": 52,
   "id": "c6b08796",
   "metadata": {},
   "outputs": [],
   "source": [
    "#Import the ansatz as a QASM file provided from the above job's result\n",
    "qasmfile = \"belem_job1.qasm\"\n",
    "qc = circuit_from_qasm(qasmfile) #generates circuit"
   ]
  },
  {
   "cell_type": "code",
   "execution_count": 53,
   "id": "5cd4eb7c",
   "metadata": {},
   "outputs": [
    {
     "name": "stdout",
     "output_type": "stream",
     "text": [
      "TKET circuit depth reading: 446\n"
     ]
    }
   ],
   "source": [
    "print(\"TKET circuit depth reading: \" + str(qc.depth())) "
   ]
  },
  {
   "cell_type": "code",
   "execution_count": 54,
   "id": "e44649b8",
   "metadata": {},
   "outputs": [
    {
     "name": "stdout",
     "output_type": "stream",
     "text": [
      "New TKET circuit depth reading: 26\n"
     ]
    }
   ],
   "source": [
    "#Some basic optimization using just passes\n",
    "seqpass = SequencePass([CommuteThroughMultis(), RemoveRedundancies(), \n",
    "                        SimplifyInitial(), KAKDecomposition(), RemoveDiscarded(),\n",
    "                        ZZPhaseToRz()])\n",
    "reppass = RepeatPass(seqpass)\n",
    "cu = CompilationUnit(qc)\n",
    "reppass.apply(cu)\n",
    "qc1 = cu.circuit\n",
    "\n",
    "#Check to see how it affected the circuit depth\n",
    "print(\"New TKET circuit depth reading: \" + str(qc1.depth())) "
   ]
  },
  {
   "cell_type": "code",
   "execution_count": 56,
   "id": "99b0cc64",
   "metadata": {},
   "outputs": [
    {
     "data": {
      "image/png": "[encoded data removed]",
      "text/plain": [
       "<Figure size 504x360 with 1 Axes>"
      ]
     },
     "execution_count": 56,
     "metadata": {},
     "output_type": "execute_result"
    }
   ],
   "source": [
    "circ = tk_to_qiskit(qc1)\n",
    "\n",
    "real_device = provider.get_backend('ibmq_belem') \n",
    "basis_gates = real_device.configuration().basis_gates\n",
    "\n",
    "#Send job to belem\n",
    "job = execute(circ, real_device, basis_gates=basis_gates, shots=1024)\n",
    "result = job.result() #execute circuit defined previously\n",
    "belem_counts = result.get_counts()\n",
    "plot_histogram(belem_counts)"
   ]
  },
  {
   "cell_type": "code",
   "execution_count": 92,
   "id": "2896dfa3",
   "metadata": {},
   "outputs": [
    {
     "name": "stdout",
     "output_type": "stream",
     "text": [
      "Number of qubits: 5\n"
     ]
    }
   ],
   "source": [
    "qubit_op = circ\n",
    "print('Number of qubits: ' + str(qubit_op.num_qubits))"
   ]
  },
  {
   "cell_type": "code",
   "execution_count": 93,
   "id": "45d30446",
   "metadata": {},
   "outputs": [
    {
     "name": "stdout",
     "output_type": "stream",
     "text": [
      "global phase: π/4\n",
      "          ┌───┐      ┌────┐           ┌─────────┐          »\n",
      "  q_0: ───┤ X ├──────┤ √X ├───────────┤ Rz(π/2) ├──────────»\n",
      "       ┌──┴───┴──┐   ├────┤           ├─────────┤          »\n",
      "  q_1: ┤ Rz(π/2) ├───┤ √X ├───────────┤ Rz(π/2) ├──────────»\n",
      "       └──┬────┬─┘┌──┴────┴─┐         └──┬────┬─┘          »\n",
      "  q_2: ───┤ √X ├──┤ Rz(π/2) ├────────────┤ √X ├────────────»\n",
      "          ├────┤  ├─────────┤┌───────────┴────┴───────────┐»\n",
      "  q_3: ───┤ √X ├──┤ Rz(π/2) ├┤ U(π/2,π/2 - π/2,π/2 + π/2) ├»\n",
      "          └────┘  └─────────┘└────────────────────────────┘»\n",
      "  q_4: ────────────────────────────────────────────────────»\n",
      "                                                           »\n",
      "c74: 4/════════════════════════════════════════════════════»\n",
      "                                                           »\n",
      "«       ┌──────────────────────────────┐            ┌────┐            »\n",
      "«  q_0: ┤ U(7π/2,π/2 - π/2,π/2 + 7π/2) ├────────────┤ √X ├────────────»\n",
      "«       └─────┬──────────────────┬─────┘┌───────────┴────┴───────────┐»\n",
      "«  q_1: ──────┤ U(7π/2,-π/2,π/2) ├──────┤ U(7π/2,π - π/2,π/2 + 7π/2) ├»\n",
      "«             └────┬────────┬────┘      └───────────┬────┬───────────┘»\n",
      "«  q_2: ───────────┤ Rz(3π) ├───────────────────────┤ √X ├────────────»\n",
      "«            ┌─────┴────────┴─────┐                 ├────┤            »\n",
      "«  q_3: ─────┤ U(0,-π/2,π/2 + 3π) ├─────────────────┤ √X ├────────────»\n",
      "«            └────────────────────┘                 └────┘            »\n",
      "«  q_4: ──────────────────────────────────────────────────────────────»\n",
      "«                                                                     »\n",
      "«c74: 4/══════════════════════════════════════════════════════════════»\n",
      "«                                                                     »\n",
      "«       ┌──────────┐             ┌────┐             »\n",
      "«  q_0: ┤ Rz(7π/2) ├─────────────┤ √X ├─────────────»\n",
      "«       └┬────────┬┘ ┌───────────┴────┴──────────┐  »\n",
      "«  q_1: ─┤ Rz(3π) ├──┤ U(3π/2,3π - π/2,π/2 + 3π) ├──»\n",
      "«        ├────────┤  └┬─────────────────────────┬┘  »\n",
      "«  q_2: ─┤ Rz(3π) ├───┤ U(3π/2,-π/2,π/2 + 7π/2) ├───»\n",
      "«       ┌┴────────┤ ┌─┴─────────────────────────┴──┐»\n",
      "«  q_3: ┤ Rz(π/2) ├─┤ U(5π/2,π/2 - π/2,π/2 + 5π/2) ├»\n",
      "«       └─────────┘ └──────────────────────────────┘»\n",
      "«  q_4: ────────────────────────────────────────────»\n",
      "«                                                   »\n",
      "«c74: 4/════════════════════════════════════════════»\n",
      "«                                                   »\n",
      "«                  ┌────────┐               ┌─────────────────┐      »\n",
      "«  q_0: ───────────┤ Rz(3π) ├───────────────┤ U(π/2,-π/2,π/2) ├──────»\n",
      "«                 ┌┴────────┤           ┌───┴─────────────────┴────┐ »\n",
      "«  q_1: ──────────┤ Rz(π/2) ├───────────┤ U(3π/2,π - π/2,π/2 + 3π) ├─»\n",
      "«                 └─────────┘           └──────────────────────────┘ »\n",
      "«  q_2: ─────────────────────────────────────────────────────────────»\n",
      "«       ┌─────────────────────────────┐┌────────────────────────────┐»\n",
      "«  q_3: ┤ U(3π/2,2π - π/2,π/2 + 7π/2) ├┤ U(5π/2,π/2 - π/2,π/2 + 3π) ├»\n",
      "«       └─────────────────────────────┘└────────────────────────────┘»\n",
      "«  q_4: ─────────────────────────────────────────────────────────────»\n",
      "«                                                                    »\n",
      "«c74: 4/═════════════════════════════════════════════════════════════»\n",
      "«                                                                    »\n",
      "«         ┌───────────────────┐         ┌────┐            ┌────────┐     »\n",
      "«  q_0: ──┤ U(0,-π/2,π/2 + π) ├─────────┤ √X ├────────────┤ Rz(3π) ├─────»\n",
      "«         └───────────────────┘         └────┘            └────────┘     »\n",
      "«  q_1: ─────────────────────────────────────────────────────────────────»\n",
      "«                                                                        »\n",
      "«  q_2: ─────────────────────────────────────────────────────────────────»\n",
      "«       ┌───────────────────────┐┌─────────────────┐┌───────────────────┐»\n",
      "«  q_3: ┤ U(3π/2,π/2 - π/2,π/2) ├┤ U(π/2,-π/2,π/2) ├┤ U(0,-π/2,π/2 + π) ├»\n",
      "«       └───────────────────────┘└─────────────────┘└───────────────────┘»\n",
      "«  q_4: ─────────────────────────────────────────────────────────────────»\n",
      "«                                                                        »\n",
      "«c74: 4/═════════════════════════════════════════════════════════════════»\n",
      "«                                                                        »\n",
      "«       ┌─────────────────────────────┐  ┌────┐      ┌─────────┐    »\n",
      "«  q_0: ┤ U(7π/2,2π - π/2,π/2 + 7π/2) ├──┤ √X ├──────┤ Rz(π/2) ├────»\n",
      "«       └─────────────────────────────┘  └────┘      └─────────┘    »\n",
      "«  q_1: ────────────────────────────────────────────────────────────»\n",
      "«                                                                   »\n",
      "«  q_2: ────────────────────────────────────────────────────────────»\n",
      "«                    ┌────┐            ┌────────┐┌─────────────────┐»\n",
      "«  q_3: ─────────────┤ √X ├────────────┤ Rz(3π) ├┤ U(π/2,-π/2,π/2) ├»\n",
      "«                    └────┘            └────────┘└─────────────────┘»\n",
      "«  q_4: ────────────────────────────────────────────────────────────»\n",
      "«                                                                   »\n",
      "«c74: 4/════════════════════════════════════════════════════════════»\n",
      "«                                                                   »\n",
      "«         ┌─────────────────┐  ┌───────────────────┐         ┌────┐        »\n",
      "«  q_0: ──┤ U(π/2,-π/2,π/2) ├──┤ U(0,-π/2,π/2 + π) ├─────────┤ √X ├────────»\n",
      "«         └─────────────────┘  └───────────────────┘         └────┘        »\n",
      "«  q_1: ───────────────────────────────────────────────────────────────────»\n",
      "«                                                                          »\n",
      "«  q_2: ───────────────────────────────────────────────────────────────────»\n",
      "«       ┌─────────────────────┐      ┌────────┐     ┌─────────────────────┐»\n",
      "«  q_3: ┤ U(π/2,-π/2,π/2 + π) ├──────┤ Rz(3π) ├─────┤ U(π/2,2π - π/2,π/2) ├»\n",
      "«       └─────────────────────┘      └────────┘     └─────────────────────┘»\n",
      "«  q_4: ───────────────────────────────────────────────────────────────────»\n",
      "«                                                                          »\n",
      "«c74: 4/═══════════════════════════════════════════════════════════════════»\n",
      "«                                                                          »\n",
      "«             ┌────────┐      ┌───────────────────────────┐┌────────┐»\n",
      "«  q_0: ──────┤ Rz(3π) ├──────┤ U(3π/2,3π - π/2,π/2 + 3π) ├┤ Rz(3π) ├»\n",
      "«             └────────┘      └───────────────────────────┘└────────┘»\n",
      "«  q_1: ─────────────────────────────────────────────────────────────»\n",
      "«                                                                    »\n",
      "«  q_2: ─────────────────────────────────────────────────────────────»\n",
      "«       ┌────────────────────┐            ┌────┐           ┌────────┐»\n",
      "«  q_3: ┤ U(0,-π/2,π/2 + 3π) ├────────────┤ √X ├───────────┤ Rz(3π) ├»\n",
      "«       └────────────────────┘            └────┘           └────────┘»\n",
      "«  q_4: ─────────────────────────────────────────────────────────────»\n",
      "«                                                                    »\n",
      "«c74: 4/═════════════════════════════════════════════════════════════»\n",
      "«                                                                    »\n",
      "«              ┌────┐      ┌──────────┐┌────┐┌────────┐ ░ ┌─┐         \n",
      "«  q_0: ───────┤ √X ├──────┤ Rz(7π/2) ├┤ √X ├┤ Rz(3π) ├─░─┤M├─────────\n",
      "«              └────┘      └──────────┘└────┘└────────┘ ░ └╥┘   ┌─┐   \n",
      "«  q_1: ────────────────────────────────────────────────░──╫────┤M├───\n",
      "«                                                       ░  ║    └╥┘┌─┐\n",
      "«  q_2: ────────────────────────────────────────────────░──╫─────╫─┤M├\n",
      "«       ┌─────────────────┐                             ░  ║ ┌─┐ ║ └╥┘\n",
      "«  q_3: ┤ U(π/2,-π/2,π/2) ├─────────────────────────────░──╫─┤M├─╫──╫─\n",
      "«       └─────────────────┘                             ░  ║ └╥┘ ║  ║ \n",
      "«  q_4: ────────────────────────────────────────────────░──╫──╫──╫──╫─\n",
      "«                                                       ░  ║  ║  ║  ║ \n",
      "«c74: 4/═══════════════════════════════════════════════════╩══╩══╩══╩═\n",
      "«                                                          0  1  2  3 \n"
     ]
    }
   ],
   "source": [
    "print(qubit_op)"
   ]
  },
  {
   "cell_type": "markdown",
   "id": "528efbee",
   "metadata": {},
   "source": [
    "Borrowing an idle qubit remover from [here](https://quantumcomputing.stackexchange.com/questions/25672/remove-inactive-qubits-from-qiskit-circuit)."
   ]
  },
  {
   "cell_type": "code",
   "execution_count": 108,
   "id": "8ab69899",
   "metadata": {},
   "outputs": [],
   "source": [
    "from qiskit.converters import circuit_to_dag, dag_to_circuit\n",
    "from collections import OrderedDict\n",
    "from qiskit import QuantumCircuit\n",
    "\n",
    "circ.remove_final_measurements()\n",
    "\n",
    "def remove_idle_qwires(circ):\n",
    "    dag = circuit_to_dag(circ)\n",
    "    idle_wires = list(dag.idle_wires())\n",
    "    for w in idle_wires:\n",
    "        dag._remove_idle_wire(w)\n",
    "        dag.qubits.remove(w)\n",
    "    dag.qregs = OrderedDict()\n",
    "    return dag_to_circuit(dag)"
   ]
  },
  {
   "cell_type": "code",
   "execution_count": 110,
   "id": "ba627c12",
   "metadata": {},
   "outputs": [],
   "source": [
    "circ2 = remove_idle_qwires(circ)"
   ]
  },
  {
   "cell_type": "code",
   "execution_count": 111,
   "id": "c24e608c",
   "metadata": {},
   "outputs": [
    {
     "name": "stdout",
     "output_type": "stream",
     "text": [
      "global phase: π/4\n",
      "      ┌───┐      ┌────┐           ┌─────────┐          »\n",
      "0: ───┤ X ├──────┤ √X ├───────────┤ Rz(π/2) ├──────────»\n",
      "   ┌──┴───┴──┐   ├────┤           ├─────────┤          »\n",
      "1: ┤ Rz(π/2) ├───┤ √X ├───────────┤ Rz(π/2) ├──────────»\n",
      "   └──┬────┬─┘┌──┴────┴─┐         └──┬────┬─┘          »\n",
      "2: ───┤ √X ├──┤ Rz(π/2) ├────────────┤ √X ├────────────»\n",
      "      ├────┤  ├─────────┤┌───────────┴────┴───────────┐»\n",
      "3: ───┤ √X ├──┤ Rz(π/2) ├┤ U(π/2,π/2 - π/2,π/2 + π/2) ├»\n",
      "      └────┘  └─────────┘└────────────────────────────┘»\n",
      "«   ┌──────────────────────────────┐            ┌────┐            ┌──────────┐»\n",
      "«0: ┤ U(7π/2,π/2 - π/2,π/2 + 7π/2) ├────────────┤ √X ├────────────┤ Rz(7π/2) ├»\n",
      "«   └─────┬──────────────────┬─────┘┌───────────┴────┴───────────┐└┬────────┬┘»\n",
      "«1: ──────┤ U(7π/2,-π/2,π/2) ├──────┤ U(7π/2,π - π/2,π/2 + 7π/2) ├─┤ Rz(3π) ├─»\n",
      "«         └────┬────────┬────┘      └───────────┬────┬───────────┘ ├────────┤ »\n",
      "«2: ───────────┤ Rz(3π) ├───────────────────────┤ √X ├─────────────┤ Rz(3π) ├─»\n",
      "«        ┌─────┴────────┴─────┐                 ├────┤            ┌┴────────┤ »\n",
      "«3: ─────┤ U(0,-π/2,π/2 + 3π) ├─────────────────┤ √X ├────────────┤ Rz(π/2) ├─»\n",
      "«        └────────────────────┘                 └────┘            └─────────┘ »\n",
      "«                ┌────┐                        ┌────────┐          »\n",
      "«0: ─────────────┤ √X ├────────────────────────┤ Rz(3π) ├──────────»\n",
      "«    ┌───────────┴────┴──────────┐            ┌┴────────┤          »\n",
      "«1: ─┤ U(3π/2,3π - π/2,π/2 + 3π) ├────────────┤ Rz(π/2) ├──────────»\n",
      "«    └┬─────────────────────────┬┘            └─────────┘          »\n",
      "«2: ──┤ U(3π/2,-π/2,π/2 + 7π/2) ├──────────────────────────────────»\n",
      "«   ┌─┴─────────────────────────┴──┐┌─────────────────────────────┐»\n",
      "«3: ┤ U(5π/2,π/2 - π/2,π/2 + 5π/2) ├┤ U(3π/2,2π - π/2,π/2 + 7π/2) ├»\n",
      "«   └──────────────────────────────┘└─────────────────────────────┘»\n",
      "«        ┌─────────────────┐        ┌───────────────────┐         ┌────┐      »\n",
      "«0: ─────┤ U(π/2,-π/2,π/2) ├────────┤ U(0,-π/2,π/2 + π) ├─────────┤ √X ├──────»\n",
      "«    ┌───┴─────────────────┴────┐   └───────────────────┘         └────┘      »\n",
      "«1: ─┤ U(3π/2,π - π/2,π/2 + 3π) ├─────────────────────────────────────────────»\n",
      "«    └──────────────────────────┘                                             »\n",
      "«2: ──────────────────────────────────────────────────────────────────────────»\n",
      "«   ┌────────────────────────────┐┌───────────────────────┐┌─────────────────┐»\n",
      "«3: ┤ U(5π/2,π/2 - π/2,π/2 + 3π) ├┤ U(3π/2,π/2 - π/2,π/2) ├┤ U(π/2,-π/2,π/2) ├»\n",
      "«   └────────────────────────────┘└───────────────────────┘└─────────────────┘»\n",
      "«         ┌────────┐     ┌─────────────────────────────┐  ┌────┐  »\n",
      "«0: ──────┤ Rz(3π) ├─────┤ U(7π/2,2π - π/2,π/2 + 7π/2) ├──┤ √X ├──»\n",
      "«         └────────┘     └─────────────────────────────┘  └────┘  »\n",
      "«1: ──────────────────────────────────────────────────────────────»\n",
      "«                                                                 »\n",
      "«2: ──────────────────────────────────────────────────────────────»\n",
      "«   ┌───────────────────┐             ┌────┐            ┌────────┐»\n",
      "«3: ┤ U(0,-π/2,π/2 + π) ├─────────────┤ √X ├────────────┤ Rz(3π) ├»\n",
      "«   └───────────────────┘             └────┘            └────────┘»\n",
      "«       ┌─────────┐      ┌─────────────────┐  ┌───────────────────┐»\n",
      "«0: ────┤ Rz(π/2) ├──────┤ U(π/2,-π/2,π/2) ├──┤ U(0,-π/2,π/2 + π) ├»\n",
      "«       └─────────┘      └─────────────────┘  └───────────────────┘»\n",
      "«1: ───────────────────────────────────────────────────────────────»\n",
      "«                                                                  »\n",
      "«2: ───────────────────────────────────────────────────────────────»\n",
      "«   ┌─────────────────┐┌─────────────────────┐      ┌────────┐     »\n",
      "«3: ┤ U(π/2,-π/2,π/2) ├┤ U(π/2,-π/2,π/2 + π) ├──────┤ Rz(3π) ├─────»\n",
      "«   └─────────────────┘└─────────────────────┘      └────────┘     »\n",
      "«            ┌────┐              ┌────────┐      ┌───────────────────────────┐»\n",
      "«0: ─────────┤ √X ├──────────────┤ Rz(3π) ├──────┤ U(3π/2,3π - π/2,π/2 + 3π) ├»\n",
      "«            └────┘              └────────┘      └───────────────────────────┘»\n",
      "«1: ──────────────────────────────────────────────────────────────────────────»\n",
      "«                                                                             »\n",
      "«2: ──────────────────────────────────────────────────────────────────────────»\n",
      "«   ┌─────────────────────┐┌────────────────────┐            ┌────┐           »\n",
      "«3: ┤ U(π/2,2π - π/2,π/2) ├┤ U(0,-π/2,π/2 + 3π) ├────────────┤ √X ├───────────»\n",
      "«   └─────────────────────┘└────────────────────┘            └────┘           »\n",
      "«   ┌────────┐       ┌────┐      ┌──────────┐┌────┐┌────────┐\n",
      "«0: ┤ Rz(3π) ├───────┤ √X ├──────┤ Rz(7π/2) ├┤ √X ├┤ Rz(3π) ├\n",
      "«   └────────┘       └────┘      └──────────┘└────┘└────────┘\n",
      "«1: ─────────────────────────────────────────────────────────\n",
      "«                                                            \n",
      "«2: ─────────────────────────────────────────────────────────\n",
      "«   ┌────────┐┌─────────────────┐                            \n",
      "«3: ┤ Rz(3π) ├┤ U(π/2,-π/2,π/2) ├────────────────────────────\n",
      "«   └────────┘└─────────────────┘                            \n"
     ]
    }
   ],
   "source": [
    "print(circ2)"
   ]
  },
  {
   "cell_type": "code",
   "execution_count": 114,
   "id": "ae2fdcdd",
   "metadata": {},
   "outputs": [],
   "source": [
    "#New qubit operator\n",
    "qubit_op = circ2"
   ]
  },
  {
   "cell_type": "code",
   "execution_count": 115,
   "id": "502f4537",
   "metadata": {},
   "outputs": [
    {
     "name": "stdout",
     "output_type": "stream",
     "text": [
      "NoiseModel:\n",
      "  Basis gates: ['cx', 'id', 'reset', 'rz', 'sx', 'x']\n",
      "  Instructions with noise: ['reset', 'id', 'measure', 'cx', 'sx', 'x']\n",
      "  Qubits with noise: [0, 1, 2, 3, 4]\n",
      "  Specific qubit errors: [('id', (0,)), ('id', (1,)), ('id', (2,)), ('id', (3,)), ('id', (4,)), ('sx', (0,)), ('sx', (1,)), ('sx', (2,)), ('sx', (3,)), ('sx', (4,)), ('x', (0,)), ('x', (1,)), ('x', (2,)), ('x', (3,)), ('x', (4,)), ('cx', (4, 3)), ('cx', (3, 4)), ('cx', (3, 1)), ('cx', (1, 3)), ('cx', (2, 1)), ('cx', (1, 2)), ('cx', (1, 0)), ('cx', (0, 1)), ('reset', (0,)), ('reset', (1,)), ('reset', (2,)), ('reset', (3,)), ('reset', (4,)), ('measure', (0,)), ('measure', (1,)), ('measure', (2,)), ('measure', (3,)), ('measure', (4,))]\n"
     ]
    }
   ],
   "source": [
    "device = provider.get_backend('ibmq_belem')\n",
    "noise_model = NoiseModel.from_backend(device)\n",
    "coupling_map = device.configuration().coupling_map\n",
    "basis_gates = noise_model.basis_gates\n",
    "\n",
    "print(noise_model)"
   ]
  },
  {
   "cell_type": "code",
   "execution_count": 116,
   "id": "2f04d1b6",
   "metadata": {},
   "outputs": [],
   "source": [
    "seed = 100\n",
    "qi = QuantumInstance(backend=backend, seed_simulator=seed, seed_transpiler=seed,\n",
    "                     coupling_map=coupling_map, noise_model=noise_model,)"
   ]
  },
  {
   "cell_type": "code",
   "execution_count": 117,
   "id": "16a75c4b",
   "metadata": {},
   "outputs": [
    {
     "name": "stdout",
     "output_type": "stream",
     "text": [
      "=== GROUND STATE ENERGY ===\n",
      " \n",
      "* Electronic ground state energy (Hartree): -8.692331790689\n",
      "  - computed part:      -0.873641495107\n",
      "  - FreezeCoreTransformer extracted energy part: -7.818690295581\n",
      "~ Nuclear repulsion energy (Hartree): 1.025934879643\n",
      "> Total ground state energy (Hartree): -7.666396911045\n",
      " \n",
      "=== MEASURED OBSERVABLES ===\n",
      " \n",
      "  0:  # Particles: 2.104 S: 0.963 S^2: 1.891 M: 0.895\n",
      " \n",
      "=== DIPOLE MOMENTS ===\n",
      " \n",
      "~ Nuclear dipole moment (a.u.): [0.0  0.0  2.92416221]\n",
      " \n",
      "  0: \n",
      "  * Electronic dipole moment (a.u.): [0.0  0.0  1.63755921]\n",
      "    - computed part:      [0.0  0.0  1.64150607]\n",
      "    - FreezeCoreTransformer extracted energy part: [0.0  0.0  -0.00394686]\n",
      "  > Dipole moment (a.u.): [0.0  0.0  1.286603]  Total: 1.286603\n",
      "                 (debye): [0.0  0.0  3.27021832]  Total: 3.27021832\n",
      " \n"
     ]
    }
   ],
   "source": [
    "from qiskit.algorithms.optimizers import SPSA \n",
    "\n",
    "new_circ = TwoLocal(rotation_blocks=[\"ry\", \"rz\"],\n",
    "                        entanglement_blocks=\"cx\",\n",
    "                        entanglement=\"linear\",\n",
    "                        reps=1,\n",
    "                        parameter_prefix=\"y\",\n",
    "                        skip_final_rotation_layer = False)\n",
    "spsa = SPSA(maxiter=iterations)\n",
    "vqe = VQE(new_circ, optimizer=spsa, \n",
    "           quantum_instance=qi)\n",
    "\n",
    "calc = GroundStateEigensolver(qubit_converter, vqe)\n",
    "res = calc.solve(es_problem)\n",
    "\n",
    "print(res)"
   ]
  },
  {
   "cell_type": "markdown",
   "id": "e4370d23",
   "metadata": {},
   "source": [
    "Using `tket` to optimize works! The results are still within a very small percentage of the actual answer."
   ]
  },
  {
   "cell_type": "markdown",
   "id": "d0c8f449",
   "metadata": {},
   "source": [
    "### Considering different mappings\n",
    "\n",
    "We will now look at how choosing a different mapping affects noise in our system by running these simulations again with the Jordan-Wigner mapping."
   ]
  },
  {
   "cell_type": "code",
   "execution_count": 85,
   "id": "1fa41e50",
   "metadata": {},
   "outputs": [
    {
     "name": "stdout",
     "output_type": "stream",
     "text": [
      "Number of qubits: 4\n"
     ]
    }
   ],
   "source": [
    "from qiskit_nature.mappers.second_quantization import JordanWignerMapper, BravyiKitaevSuperFastMapper\n",
    "\n",
    "#New mapping\n",
    "new_qubit_converter = QubitConverter(JordanWignerMapper(), \n",
    "                                 two_qubit_reduction = True, z2symmetry_reduction = [1,1])\n",
    "\n",
    "#Convert to new QubitOp\n",
    "qubit_op = new_qubit_converter.convert(second_q_op[0])\n",
    "print('Number of qubits: ' + str(qubit_op.num_qubits))"
   ]
  },
  {
   "cell_type": "code",
   "execution_count": 86,
   "id": "aa2ea400",
   "metadata": {},
   "outputs": [
    {
     "name": "stdout",
     "output_type": "stream",
     "text": [
      "=== GROUND STATE ENERGY ===\n",
      " \n",
      "* Electronic ground state energy (Hartree): -8.710414439077\n",
      "  - computed part:      -0.891724143496\n",
      "  - FreezeCoreTransformer extracted energy part: -7.818690295581\n",
      "~ Nuclear repulsion energy (Hartree): 1.025934879643\n",
      "> Total ground state energy (Hartree): -7.684479559433\n",
      " \n",
      "=== MEASURED OBSERVABLES ===\n",
      " \n",
      "  0:  # Particles: 2.008 S: 0.979 S^2: 1.939 M: -0.954\n",
      " \n",
      "=== DIPOLE MOMENTS ===\n",
      " \n",
      "~ Nuclear dipole moment (a.u.): [0.0  0.0  2.92416221]\n",
      " \n",
      "  0: \n",
      "  * Electronic dipole moment (a.u.): [0.0  0.0  1.16205314]\n",
      "    - computed part:      [0.0  0.0  1.166]\n",
      "    - FreezeCoreTransformer extracted energy part: [0.0  0.0  -0.00394686]\n",
      "  > Dipole moment (a.u.): [0.0  0.0  1.76210907]  Total: 1.76210907\n",
      "                 (debye): [0.0  0.0  4.47883408]  Total: 4.47883408\n",
      " \n"
     ]
    }
   ],
   "source": [
    "device = provider.get_backend('ibmq_belem')\n",
    "noise_model = NoiseModel.from_backend(device)\n",
    "coupling_map = device.configuration().coupling_map\n",
    "basis_gates = noise_model.basis_gates\n",
    "\n",
    "qi = QuantumInstance(backend=backend, seed_simulator=seed, seed_transpiler=seed,\n",
    "                     coupling_map=coupling_map, noise_model=noise_model,)\n",
    "\n",
    "jw_circ = TwoLocal(rotation_blocks=[\"ry\", \"rz\"],\n",
    "                        entanglement_blocks=\"cx\",\n",
    "                        entanglement=\"linear\",\n",
    "                        reps=1,\n",
    "                        parameter_prefix=\"y\",\n",
    "                        skip_final_rotation_layer = False)\n",
    "spsa = SPSA(maxiter=iterations)\n",
    "vqe = VQE(jw_circ, optimizer=spsa, \n",
    "           quantum_instance=qi)\n",
    "\n",
    "calc = GroundStateEigensolver(qubit_converter, vqe)\n",
    "res = calc.solve(es_problem)\n",
    "\n",
    "print(res)"
   ]
  },
  {
   "cell_type": "markdown",
   "id": "d675387c",
   "metadata": {},
   "source": [
    "### Using the `BravyiKitaevSuperFastMapper`\n",
    "\n",
    "This one is considered to introduce more error."
   ]
  },
  {
   "cell_type": "code",
   "execution_count": 119,
   "id": "026ef982",
   "metadata": {},
   "outputs": [
    {
     "name": "stdout",
     "output_type": "stream",
     "text": [
      "Number of qubits: 4\n"
     ]
    }
   ],
   "source": [
    "#New mapping\n",
    "another_qubit_converter = QubitConverter(BravyiKitaevSuperFastMapper(), \n",
    "                                 two_qubit_reduction = True, z2symmetry_reduction = [1,1])\n",
    "\n",
    "#Convert to new QubitOp\n",
    "qubit_op = qubit_converter.convert(second_q_op[0])\n",
    "print('Number of qubits: ' + str(qubit_op.num_qubits))"
   ]
  },
  {
   "cell_type": "code",
   "execution_count": 121,
   "id": "0e6d16e8",
   "metadata": {},
   "outputs": [
    {
     "name": "stdout",
     "output_type": "stream",
     "text": [
      "=== GROUND STATE ENERGY ===\n",
      " \n",
      "* Electronic ground state energy (Hartree): -8.706839437555\n",
      "  - computed part:      -0.888149141974\n",
      "  - FreezeCoreTransformer extracted energy part: -7.818690295581\n",
      "~ Nuclear repulsion energy (Hartree): 1.025934879643\n",
      "> Total ground state energy (Hartree): -7.680904557912\n",
      " \n",
      "=== MEASURED OBSERVABLES ===\n",
      " \n",
      "  0:  # Particles: 2.043 S: 0.973 S^2: 1.920 M: -0.944\n",
      " \n",
      "=== DIPOLE MOMENTS ===\n",
      " \n",
      "~ Nuclear dipole moment (a.u.): [0.0  0.0  2.92416221]\n",
      " \n",
      "  0: \n",
      "  * Electronic dipole moment (a.u.): [0.0  0.0  1.40418813]\n",
      "    - computed part:      [0.0  0.0  1.40813499]\n",
      "    - FreezeCoreTransformer extracted energy part: [0.0  0.0  -0.00394686]\n",
      "  > Dipole moment (a.u.): [0.0  0.0  1.51997408]  Total: 1.51997408\n",
      "                 (debye): [0.0  0.0  3.86338839]  Total: 3.86338839\n",
      " \n"
     ]
    }
   ],
   "source": [
    "device = provider.get_backend('ibmq_belem')\n",
    "noise_model = NoiseModel.from_backend(device)\n",
    "coupling_map = device.configuration().coupling_map\n",
    "basis_gates = noise_model.basis_gates\n",
    "\n",
    "qi = QuantumInstance(backend=backend, seed_simulator=seed, seed_transpiler=seed,\n",
    "                     coupling_map=coupling_map, noise_model=noise_model,)\n",
    "\n",
    "bksf_circ = TwoLocal(rotation_blocks=[\"ry\", \"rz\"],\n",
    "                        entanglement_blocks=\"cx\",\n",
    "                        entanglement=\"linear\",\n",
    "                        reps=1,\n",
    "                        parameter_prefix=\"y\",\n",
    "                        skip_final_rotation_layer = False)\n",
    "spsa = SPSA(maxiter=iterations)\n",
    "vqe = VQE(bksf_circ, optimizer=spsa, \n",
    "           quantum_instance=qi)\n",
    "\n",
    "calc = GroundStateEigensolver(qubit_converter, vqe)\n",
    "res = calc.solve(es_problem)\n",
    "\n",
    "print(res)"
   ]
  },
  {
   "cell_type": "markdown",
   "id": "9e760809",
   "metadata": {},
   "source": [
    "### Summary:\n",
    "\n",
    "- Ground state energy: -8.789053776487 \n",
    "- Noiseless simulation with Bravyi-Kitaev Mapping: -8.783386305406\n",
    "- Simulation after optimizing with `tket`: -8.692331790689\n",
    "- Simulation with Jordan-Wigner Mapping: -8.710414439077\n",
    "- Simulation with Bravyi-Kitaev Super Fast Mapping: -8.706839437555\n",
    "\n",
    "Running multiple optimization passes on an ansatz circuit seems to introduce some extra noise from the information lost. Similarly, the Super Fast Mapping introduces more noise, however (with this small noise model) the results are still very close to the classically computed answer."
   ]
  }
 ],
 "metadata": {
  "kernelspec": {
   "display_name": "Python 3 (ipykernel)",
   "language": "python",
   "name": "python3"
  },
  "language_info": {
   "codemirror_mode": {
    "name": "ipython",
    "version": 3
   },
   "file_extension": ".py",
   "mimetype": "text/x-python",
   "name": "python",
   "nbconvert_exporter": "python",
   "pygments_lexer": "ipython3",
   "version": "3.9.12"
  }
 },
 "nbformat": 4,
 "nbformat_minor": 5
}
